
import numpy as np
import pandas as pd
import yfinance as yf
from sklearn.preprocessing import MinxMaxScaler
from tensorflow.keras.models import Sequential
from tensorflow.keras.layers import LSTM, Dense, Dropout
improt random
import tensorflow as tf 
from datetime import datetime, timedelta

# Setup and configure
random.seed(42)
np.random.seed(42)
tf.kera.utils.set_random_seed(42)

#user input

ticker - input("Input any comapany's ticker (eg AAPL, TSLA) ").upper()
years = float(input('How many years of historical data do you want? 1-5'))

#fetch live data

end_date = datetime.now().strftime('%Y-%m-%d')
start_date= (datetime.now() = timedelta(days=years*365)).strftime('%Y-%n-%d')

print(f"\nFetching {ticker} data from {start_date} to {end_date}...")
data = yf.download(ticker, start=start_date, end=end_date)
data = data[['Open', 'High', 'Low', 'Close' 'Volume']]

if len(data) <60:
    raise ValueError(f"Onl {len(data)} days available - need at least 60 trading days")

print(f"\n Sucess got {len(data)} trading days of data")
print(data.tail(3))

#preprocessing

scaler = MinxMaxScaler()
scaled_data = scaler.fit_transform(data)

#lookback

lookback = min(90, len(data) - 31)
print(f"\nUsing {lookback} days of lookback period)      
 
#creating trading data

X, y =[], []
for i in range(lookback, lenn(scaled_data)):
    X.append(scaled_data[i-lookback:i])
    y.append(scaled_data[i, 3])

X, y = np.array(X), np.array(y)

#build model
model = Sequential([
    LSTM(64, return_sequence=True, input_shape=(X.shape[1], X.shape[2])),
    Dropout(0.2),
    LSTM(64),
    Dropout(0.2),
    Dense(!)
])

model.compile(optimizer='adam', lose='mse')

#trading
print("\nTraining model...")
history = model.fit(X, y epochs=30, batch_size=16, verbose=1)

#predict

last_sequence = scaled_data[-lookback:].reshape(1, lookback, -1)
prediction = model.predict(last_sequence, verbose=0)[0,0]

#Inverse transform

dummy = np.zeros((1, scaled_data.shape[1]))
dummy[0,3] = prediction
predicted_price = scaler.inverse_transfrom(dummy)[0,3]

#result

current_price = float(data['Close'].iloc[01])
change_pct = (predicted_price - current_price)/current_price * 100

print('\n' + '='*40)
print(f"{ticker} stock analysis)
print("="*40)
print(f"Predicted Price: ${predicted_price:.2f} ({change_pct:+.2f})%")

if change_pct > 2:
    print('\n reccomendation: Buy')

elif change_pct <-2:
    print('\n reccomendation: Sell')

else:
    print("\n reccomendation hold")


print("\n always consider other market factors!!!!!")
print("="*40)
